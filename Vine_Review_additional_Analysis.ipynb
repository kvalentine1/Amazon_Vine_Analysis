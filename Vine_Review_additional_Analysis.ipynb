{
  "nbformat": 4,
  "nbformat_minor": 0,
  "metadata": {
    "colab": {
      "name": "Vine_Review_Analysis.ipynb",
      "provenance": [],
      "authorship_tag": "ABX9TyOb+xk3Saa548BNrsbQIfMm"
    },
    "kernelspec": {
      "name": "python3",
      "display_name": "Python 3"
    },
    "language_info": {
      "name": "python"
    }
  },
  "cells": [
    {
      "cell_type": "code",
      "metadata": {
        "id": "V58rxea0HqSa",
        "colab": {
          "base_uri": "https://localhost:8080/"
        },
        "outputId": "608ebaa8-1a51-461f-ee87-ab1352537c87"
      },
      "source": [
        "import os\n",
        "# Find the latest version of spark 3.0 from http://www.apache.org/dist/spark/ and enter as the spark version\n",
        "# For example:\n",
        "# spark_version = 'spark-3.0.3'\n",
        "spark_version = 'spark-3.0.3'\n",
        "os.environ['SPARK_VERSION']=spark_version\n",
        "\n",
        "# Install Spark and Java\n",
        "!apt-get update\n",
        "!apt-get install openjdk-11-jdk-headless -qq > /dev/null\n",
        "!wget -q http://www.apache.org/dist/spark/$SPARK_VERSION/$SPARK_VERSION-bin-hadoop2.7.tgz\n",
        "!tar xf $SPARK_VERSION-bin-hadoop2.7.tgz\n",
        "!pip install -q findspark\n",
        "\n",
        "# Set Environment Variables\n",
        "import os\n",
        "os.environ[\"JAVA_HOME\"] = \"/usr/lib/jvm/java-11-openjdk-amd64\"\n",
        "os.environ[\"SPARK_HOME\"] = f\"/content/{spark_version}-bin-hadoop2.7\"\n",
        "\n",
        "# Start a SparkSession\n",
        "import findspark\n",
        "findspark.init()"
      ],
      "execution_count": 3,
      "outputs": [
        {
          "output_type": "stream",
          "name": "stdout",
          "text": [
            "\r0% [Working]\r            \rHit:1 https://cloud.r-project.org/bin/linux/ubuntu bionic-cran40/ InRelease\n",
            "\r0% [Connecting to archive.ubuntu.com] [Connecting to security.ubuntu.com] [Conn\r                                                                               \rHit:2 https://developer.download.nvidia.com/compute/cuda/repos/ubuntu1804/x86_64  InRelease\n",
            "\r0% [Connecting to archive.ubuntu.com] [Connecting to security.ubuntu.com] [Conn\r0% [1 InRelease gpgv 3,626 B] [Connecting to archive.ubuntu.com] [Connecting to\r                                                                               \rIgn:3 https://developer.download.nvidia.com/compute/machine-learning/repos/ubuntu1804/x86_64  InRelease\n",
            "Hit:4 https://developer.download.nvidia.com/compute/machine-learning/repos/ubuntu1804/x86_64  Release\n",
            "Hit:5 http://ppa.launchpad.net/c2d4u.team/c2d4u4.0+/ubuntu bionic InRelease\n",
            "Hit:6 http://security.ubuntu.com/ubuntu bionic-security InRelease\n",
            "Hit:7 http://archive.ubuntu.com/ubuntu bionic InRelease\n",
            "Hit:8 http://ppa.launchpad.net/cran/libgit2/ubuntu bionic InRelease\n",
            "Hit:9 http://archive.ubuntu.com/ubuntu bionic-updates InRelease\n",
            "Hit:11 http://archive.ubuntu.com/ubuntu bionic-backports InRelease\n",
            "Hit:12 http://ppa.launchpad.net/deadsnakes/ppa/ubuntu bionic InRelease\n",
            "Hit:13 http://ppa.launchpad.net/graphics-drivers/ppa/ubuntu bionic InRelease\n",
            "Reading package lists... Done\n"
          ]
        }
      ]
    },
    {
      "cell_type": "code",
      "source": [
        "# Download the Postgres driver that will allow Spark to interact with Postgres.\n",
        "!wget https://jdbc.postgresql.org/download/postgresql-42.2.16.jar"
      ],
      "metadata": {
        "colab": {
          "base_uri": "https://localhost:8080/"
        },
        "id": "OUxklLXOc-Af",
        "outputId": "78e858f9-c3f2-4a14-ae38-da30435af743"
      },
      "execution_count": 4,
      "outputs": [
        {
          "output_type": "stream",
          "name": "stdout",
          "text": [
            "--2022-07-10 23:46:32--  https://jdbc.postgresql.org/download/postgresql-42.2.16.jar\n",
            "Resolving jdbc.postgresql.org (jdbc.postgresql.org)... 72.32.157.228, 2001:4800:3e1:1::228\n",
            "Connecting to jdbc.postgresql.org (jdbc.postgresql.org)|72.32.157.228|:443... connected.\n",
            "HTTP request sent, awaiting response... 200 OK\n",
            "Length: 1002883 (979K) [application/java-archive]\n",
            "Saving to: ‘postgresql-42.2.16.jar.1’\n",
            "\n",
            "postgresql-42.2.16. 100%[===================>] 979.38K  4.96MB/s    in 0.2s    \n",
            "\n",
            "2022-07-10 23:46:33 (4.96 MB/s) - ‘postgresql-42.2.16.jar.1’ saved [1002883/1002883]\n",
            "\n"
          ]
        }
      ]
    },
    {
      "cell_type": "code",
      "source": [
        "from pyspark.sql import SparkSession\n",
        "spark = SparkSession.builder.appName(\"M16-Amazon-Challenge\").config(\"spark.driver.extraClassPath\",\"/content/postgresql-42.2.16.jar\").getOrCreate()"
      ],
      "metadata": {
        "id": "oQxIzYzMdDmx"
      },
      "execution_count": 5,
      "outputs": []
    },
    {
      "cell_type": "code",
      "source": [
        "from pyspark import SparkFiles\n",
        "url = \"https://s3.amazonaws.com/amazon-reviews-pds/tsv/amazon_reviews_us_Beauty_v1_00.tsv.gz\"\n",
        "spark.sparkContext.addFile(url)\n",
        "df = spark.read.option(\"encoding\", \"UTF-8\").csv(SparkFiles.get(\"\"), sep=\"\\t\", header=True, inferSchema=True)\n",
        "df.show()"
      ],
      "metadata": {
        "colab": {
          "base_uri": "https://localhost:8080/"
        },
        "id": "1LDk9KP6dI-G",
        "outputId": "e2b1cdaa-a9c7-4779-ed5b-b8b08157de94"
      },
      "execution_count": 6,
      "outputs": [
        {
          "output_type": "stream",
          "name": "stdout",
          "text": [
            "+-----------+-----------+--------------+----------+--------------+--------------------+----------------+-----------+-------------+-----------+----+-----------------+--------------------+---------------------+-----------+\n",
            "|marketplace|customer_id|     review_id|product_id|product_parent|       product_title|product_category|star_rating|helpful_votes|total_votes|vine|verified_purchase|     review_headline|          review_body|review_date|\n",
            "+-----------+-----------+--------------+----------+--------------+--------------------+----------------+-----------+-------------+-----------+----+-----------------+--------------------+---------------------+-----------+\n",
            "|         US|    1797882|R3I2DHQBR577SS|B001ANOOOE|       2102612|The Naked Bee Vit...|          Beauty|          5|            0|          0|   N|                Y|          Five Stars| Love this, excell...| 2015-08-31|\n",
            "|         US|   18381298|R1QNE9NQFJC2Y4|B0016J22EQ|     106393691|Alba Botanica Sun...|          Beauty|          5|            0|          0|   N|                Y|Thank you Alba Bo...| The great thing a...| 2015-08-31|\n",
            "|         US|   19242472|R3LIDG2Q4LJBAO|B00HU6UQAG|     375449471|Elysee Infusion S...|          Beauty|          5|            0|          0|   N|                Y|          Five Stars| Great Product, I'...| 2015-08-31|\n",
            "|         US|   19551372|R3KSZHPAEVPEAL|B002HWS7RM|     255651889|Diane D722 Color,...|          Beauty|          5|            0|          0|   N|                Y|          GOOD DEAL!| I use them as sho...| 2015-08-31|\n",
            "|         US|   14802407| RAI2OIG50KZ43|B00SM99KWU|     116158747|Biore UV Aqua Ric...|          Beauty|          5|            0|          0|   N|                Y|this soaks in qui...| This is my go-to ...| 2015-08-31|\n",
            "|         US|    2909389|R1R30FA4RB5P54|B000NYL1Z6|     166146615|Murad Clarifying ...|          Beauty|          4|            0|          0|   N|                Y|          Four Stars|                 Good| 2015-08-31|\n",
            "|         US|   19397215|R30IJKCGJBGPJH|B001SYWTFG|     111742328|CoverGirl Queen C...|          Beauty|          5|            0|          0|   N|                Y|            Good buy| Great eyeliner, d...| 2015-08-31|\n",
            "|         US|    3195210|R18GLJJPVQ1OVH|B005F2EVMQ|     255803087|Bifesta Mandom Ey...|          Beauty|          5|            0|          0|   N|                Y|          Five Stars|Best makeup remover！| 2015-08-31|\n",
            "|         US|   52216383| R8TVYIJXLYJT0|B00M1SUW7K|     246816549|Can You Handlebar...|          Beauty|          5|            0|          0|   N|                Y|Tame the wild mus...| This is a great p...| 2015-08-31|\n",
            "|         US|   10278216|R1CJGF6M3PVHEZ|B001KYQA1S|       9612905|Maybelline Great ...|          Beauty|          1|            0|          2|   N|                Y|but it's like hav...| I thought it woul...| 2015-08-31|\n",
            "|         US|   24655453|R2A30ALEGLMCGN|B00SAQ9DZY|     292127037|12 New, High Qual...|          Beauty|          4|            1|          1|   N|                Y|        Good Product| These are great f...| 2015-08-31|\n",
            "|         US|   30788223|R134GP1Y3EQZ1L|B00HFQQ0VU|     311309827|Waterpik Aquarius...|          Beauty|          5|            0|          0|   N|                Y| Optimum Oral Health| Just got this.  N...| 2015-08-31|\n",
            "|         US|   11257536| R6CE3SOIUJGP4|B00PYL8MAA|     390030149|Proganix Agave Ne...|          Beauty|          4|            1|          1|   N|                N|   Love this cream !| Wish I had discov...| 2015-08-31|\n",
            "|         US|   29605778|R37CDLQZUPDZVM|B00D9NV2D4|     794858888|         Shea Butter|          Beauty|          5|            0|          0|   N|                Y|It works so much ...| I bought this to ...| 2015-08-31|\n",
            "|         US|   41238422|R1KH9XCK6GYT26|B008Y9M412|     874223919|Etude House Fresh...|          Beauty|          5|            0|          0|   N|                Y|          Five Stars| The tint is aweso...| 2015-08-31|\n",
            "|         US|   23620123|R3I4BQ6654MQNA|B00FWXBLHG|     464001209|Vintage Lil' Spon...|          Beauty|          5|            1|          1|   N|                Y|Great product, fa...| I'm in love with ...| 2015-08-31|\n",
            "|         US|   25564245|R3LUPG356F1D40|B003KL8CB0|     328680790|Jenna Jameson Hea...|          Beauty|          5|            3|          3|   N|                N|Does not smell ch...| I was given this ...| 2015-08-31|\n",
            "|         US|     801375|R3HNVRTHL9S2ZB|B006R2LNV0|     620737389|Korean Cosmetics_...|          Beauty|          5|            0|          0|   N|                N|          Five Stars| Magical everybody...| 2015-08-31|\n",
            "|         US|    9478730| R5HKL5RD4IUT8|B00SMIIR0W|     351973146|Schick Hydro Silk...|          Beauty|          5|            0|          0|   N|                Y|Love this Razor/T...| Works fantastic! ...| 2015-08-31|\n",
            "|         US|   18418407|R37Z8NBTHPR853|B003UKKH6O|      10034795|Oral-B Vitality P...|          Beauty|          5|            0|          0|   N|                Y|          Five Stars| excellent battery...| 2015-08-31|\n",
            "+-----------+-----------+--------------+----------+--------------+--------------------+----------------+-----------+-------------+-----------+----+-----------------+--------------------+---------------------+-----------+\n",
            "only showing top 20 rows\n",
            "\n"
          ]
        }
      ]
    },
    {
      "cell_type": "code",
      "source": [
        "df.count()"
      ],
      "metadata": {
        "colab": {
          "base_uri": "https://localhost:8080/"
        },
        "id": "XpAnOUgWdUdA",
        "outputId": "d3ffbc5c-f59d-4b41-89ea-b701bf01fd79"
      },
      "execution_count": 7,
      "outputs": [
        {
          "output_type": "execute_result",
          "data": {
            "text/plain": [
              "5115666"
            ]
          },
          "metadata": {},
          "execution_count": 7
        }
      ]
    },
    {
      "cell_type": "code",
      "source": [
        "# Load in a sql function to use columns\n",
        "from pyspark.sql.functions import col\n",
        "\n",
        "# Filter for only columns with total_votes equal or greater than 20\n",
        "total_votes_20greater_df = df.filter(col(\"total_votes\") >= 20)\n",
        "total_votes_20greater_df.show()"
      ],
      "metadata": {
        "colab": {
          "base_uri": "https://localhost:8080/"
        },
        "id": "O215ybxBdXRs",
        "outputId": "8e507325-7daf-4f30-a503-db36d9c59a49"
      },
      "execution_count": 8,
      "outputs": [
        {
          "output_type": "stream",
          "name": "stdout",
          "text": [
            "+-----------+-----------+--------------+----------+--------------+--------------------+----------------+-----------+-------------+-----------+----+-----------------+--------------------+--------------------+-----------+\n",
            "|marketplace|customer_id|     review_id|product_id|product_parent|       product_title|product_category|star_rating|helpful_votes|total_votes|vine|verified_purchase|     review_headline|         review_body|review_date|\n",
            "+-----------+-----------+--------------+----------+--------------+--------------------+----------------+-----------+-------------+-----------+----+-----------------+--------------------+--------------------+-----------+\n",
            "|         US|   22393078|R2QRUE9REK8OUC|B00461F4PA|     608719013|Baby Foot Exfolia...|          Beauty|          5|           18|         23|   N|                Y|Better Than Any Pedi|First off, I'll s...| 2015-08-31|\n",
            "|         US|   46053231|R2POXRW6PXHXZG|B00OCJZ0GE|     717345177|Bed Head Little T...|          Beauty|          5|           25|         30|   N|                Y|       Great Crimper|This is a great c...| 2015-08-31|\n",
            "|         US|   31499430| RZN43XRZ89IIJ|B00VOK0V7M|     629138408|Stretch Mark & Sc...|          Beauty|          3|           10|         27|   N|                N|Very questionable...|Looking at this p...| 2015-08-31|\n",
            "|         US|   27682058|R29Q748WSHZ3SN|B001V9LQ0W|      44090072|AVEENO ACTIVE NAT...|          Beauty|          5|           23|         24|   N|                Y|Best hair restore...|This is fabulous ...| 2015-08-31|\n",
            "|         US|     333848| R46UL5G5HEPRZ|B00SX6XABO|     899819396|SnoreShield™ Adju...|          Beauty|          5|           18|         20|   N|                N|SnoreShield is aw...|I bought this ant...| 2015-08-31|\n",
            "|         US|   12553981|R2UQHSNWU6WTZX|B00HAT8EKW|     136225014|Moroccan Oil Sham...|          Beauty|          5|           74|         76|   N|                N|Love what the sha...|I love what both ...| 2015-08-31|\n",
            "|         US|   15257586|R2HSRI3D6E2M9Y|B004WOSOA8|     160713618|Vasocaine Numbing...|          Beauty|          5|           69|         71|   N|                Y|Best tattoo Spray...|Best tattoo Spray...| 2015-08-31|\n",
            "|         US|   19276831|R17ARFSDV555EW|B005WWQXB6|     807009289|Wet Brush Origina...|          Beauty|          1|           29|         29|   N|                Y|Better Than That ...|**Update!! Counte...| 2015-08-31|\n",
            "|         US|   42235766|R3GL5156FFEDQA|B000VPPUEA|     834747871|Bio-Oil Multiuse ...|          Beauty|          5|           20|         21|   N|                Y|This product works!!|This works!  Afte...| 2015-08-31|\n",
            "|         US|   30423413|R29KQJC9PIYWQS|B00V8PP7WC|      10772213|50, Clear, Empty,...|          Beauty|          5|           25|         26|   N|                Y|             Perfect|Work exactly as e...| 2015-08-31|\n",
            "|         US|   47837987| RYWUJT2A33VJH|B004VJ56AK|     495619476|Clarisonic Opal S...|          Beauty|          5|           20|         22|   N|                N|Her surgery was a...|I have had my Opa...| 2015-08-31|\n",
            "|         US|     314244|R1KH5L45CWI30I|B00SX6XABO|     899819396|SnoreShield™ Adju...|          Beauty|          5|           19|         20|   N|                N|      Give it a try!|One of my friend ...| 2015-08-31|\n",
            "|         US|    1407203|R1RKEBF47UEIVH|B00COGVWV4|     845309451|8 Lots Mix Color ...|          Beauty|          5|           26|         30|   N|                N|          Five Stars|Love it! Little h...| 2015-08-31|\n",
            "|         US|   42404264|R3N1SCGIU1LV1U|B00NK65R5O|     966582870|Best Anti Aging F...|          Beauty|          1|            2|         20|   N|                Y|            One Star|   Gift don't know.!| 2015-08-31|\n",
            "|         US|    2659185|R2WIB8BHF77XIG|B005G4YCHW|     269969003|Nature Made Prena...|          Beauty|          4|           69|         78|   N|                N| I liked these pills|I liked these pil...| 2015-08-31|\n",
            "|         US|   25415510|R20T4C0DA38YBD|B00ZORY924|     247229663|Gellen Temperatur...|          Beauty|          5|           22|         23|   N|                Y|IN LOVE! I was wo...|IN LOVE! I was wo...| 2015-08-31|\n",
            "|         US|    1094446| REUKY9DLNJXYF|B0084PXVX6|     236774785|Raw Unrefined Ivo...|          Beauty|          4|           21|         22|   N|                Y|       great product|I really love thi...| 2015-08-31|\n",
            "|         US|   23645612|R2OH5QLD7MGJTG|B0027VCNGO|      24106546|Seche Vite Dry Fa...|          Beauty|          5|           48|         48|   N|                Y| BEST top coat EVER!|I take my nail re...| 2015-08-31|\n",
            "|         US|   10721966|R179M7NOS1365W|B00OGUB23E|     638245716|Alina Skin Care V...|          Beauty|          5|           88|         91|   N|                Y|          Five Stars|                Good| 2015-08-31|\n",
            "|         US|   50463744|R2NPNCGM6T1JBA|B0076Q7WH0|     966701049|PURA D'OR Argan O...|          Beauty|          3|          253|        259|   N|                Y|Beware of fake re...|The main reason I...| 2015-08-31|\n",
            "+-----------+-----------+--------------+----------+--------------+--------------------+----------------+-----------+-------------+-----------+----+-----------------+--------------------+--------------------+-----------+\n",
            "only showing top 20 rows\n",
            "\n"
          ]
        }
      ]
    },
    {
      "cell_type": "code",
      "source": [
        "total_votes_20greater_df.count()"
      ],
      "metadata": {
        "colab": {
          "base_uri": "https://localhost:8080/"
        },
        "id": "YrKcMsGYd4w6",
        "outputId": "acfe8433-8210-44a5-8b23-9b994ce395ea"
      },
      "execution_count": 9,
      "outputs": [
        {
          "output_type": "execute_result",
          "data": {
            "text/plain": [
              "79227"
            ]
          },
          "metadata": {},
          "execution_count": 9
        }
      ]
    },
    {
      "cell_type": "code",
      "source": [
        "# Filter the data for helpful_votes/total_votes is >= 50%\n",
        "helpful_votes_50plus_df = total_votes_20greater_df.filter(col(\"helpful_votes\")/col(\"total_votes\") >= .50)\n",
        "helpful_votes_50plus_df.show()"
      ],
      "metadata": {
        "colab": {
          "base_uri": "https://localhost:8080/"
        },
        "id": "8Elvb9q8d9IF",
        "outputId": "c3fc19d3-2f3c-4ec6-8f32-d652c5617b6d"
      },
      "execution_count": 10,
      "outputs": [
        {
          "output_type": "stream",
          "name": "stdout",
          "text": [
            "+-----------+-----------+--------------+----------+--------------+--------------------+----------------+-----------+-------------+-----------+----+-----------------+--------------------+--------------------+-----------+\n",
            "|marketplace|customer_id|     review_id|product_id|product_parent|       product_title|product_category|star_rating|helpful_votes|total_votes|vine|verified_purchase|     review_headline|         review_body|review_date|\n",
            "+-----------+-----------+--------------+----------+--------------+--------------------+----------------+-----------+-------------+-----------+----+-----------------+--------------------+--------------------+-----------+\n",
            "|         US|   22393078|R2QRUE9REK8OUC|B00461F4PA|     608719013|Baby Foot Exfolia...|          Beauty|          5|           18|         23|   N|                Y|Better Than Any Pedi|First off, I'll s...| 2015-08-31|\n",
            "|         US|   46053231|R2POXRW6PXHXZG|B00OCJZ0GE|     717345177|Bed Head Little T...|          Beauty|          5|           25|         30|   N|                Y|       Great Crimper|This is a great c...| 2015-08-31|\n",
            "|         US|   27682058|R29Q748WSHZ3SN|B001V9LQ0W|      44090072|AVEENO ACTIVE NAT...|          Beauty|          5|           23|         24|   N|                Y|Best hair restore...|This is fabulous ...| 2015-08-31|\n",
            "|         US|     333848| R46UL5G5HEPRZ|B00SX6XABO|     899819396|SnoreShield™ Adju...|          Beauty|          5|           18|         20|   N|                N|SnoreShield is aw...|I bought this ant...| 2015-08-31|\n",
            "|         US|   12553981|R2UQHSNWU6WTZX|B00HAT8EKW|     136225014|Moroccan Oil Sham...|          Beauty|          5|           74|         76|   N|                N|Love what the sha...|I love what both ...| 2015-08-31|\n",
            "|         US|   15257586|R2HSRI3D6E2M9Y|B004WOSOA8|     160713618|Vasocaine Numbing...|          Beauty|          5|           69|         71|   N|                Y|Best tattoo Spray...|Best tattoo Spray...| 2015-08-31|\n",
            "|         US|   19276831|R17ARFSDV555EW|B005WWQXB6|     807009289|Wet Brush Origina...|          Beauty|          1|           29|         29|   N|                Y|Better Than That ...|**Update!! Counte...| 2015-08-31|\n",
            "|         US|   42235766|R3GL5156FFEDQA|B000VPPUEA|     834747871|Bio-Oil Multiuse ...|          Beauty|          5|           20|         21|   N|                Y|This product works!!|This works!  Afte...| 2015-08-31|\n",
            "|         US|   30423413|R29KQJC9PIYWQS|B00V8PP7WC|      10772213|50, Clear, Empty,...|          Beauty|          5|           25|         26|   N|                Y|             Perfect|Work exactly as e...| 2015-08-31|\n",
            "|         US|   47837987| RYWUJT2A33VJH|B004VJ56AK|     495619476|Clarisonic Opal S...|          Beauty|          5|           20|         22|   N|                N|Her surgery was a...|I have had my Opa...| 2015-08-31|\n",
            "|         US|     314244|R1KH5L45CWI30I|B00SX6XABO|     899819396|SnoreShield™ Adju...|          Beauty|          5|           19|         20|   N|                N|      Give it a try!|One of my friend ...| 2015-08-31|\n",
            "|         US|    1407203|R1RKEBF47UEIVH|B00COGVWV4|     845309451|8 Lots Mix Color ...|          Beauty|          5|           26|         30|   N|                N|          Five Stars|Love it! Little h...| 2015-08-31|\n",
            "|         US|    2659185|R2WIB8BHF77XIG|B005G4YCHW|     269969003|Nature Made Prena...|          Beauty|          4|           69|         78|   N|                N| I liked these pills|I liked these pil...| 2015-08-31|\n",
            "|         US|   25415510|R20T4C0DA38YBD|B00ZORY924|     247229663|Gellen Temperatur...|          Beauty|          5|           22|         23|   N|                Y|IN LOVE! I was wo...|IN LOVE! I was wo...| 2015-08-31|\n",
            "|         US|    1094446| REUKY9DLNJXYF|B0084PXVX6|     236774785|Raw Unrefined Ivo...|          Beauty|          4|           21|         22|   N|                Y|       great product|I really love thi...| 2015-08-31|\n",
            "|         US|   23645612|R2OH5QLD7MGJTG|B0027VCNGO|      24106546|Seche Vite Dry Fa...|          Beauty|          5|           48|         48|   N|                Y| BEST top coat EVER!|I take my nail re...| 2015-08-31|\n",
            "|         US|   10721966|R179M7NOS1365W|B00OGUB23E|     638245716|Alina Skin Care V...|          Beauty|          5|           88|         91|   N|                Y|          Five Stars|                Good| 2015-08-31|\n",
            "|         US|   50463744|R2NPNCGM6T1JBA|B0076Q7WH0|     966701049|PURA D'OR Argan O...|          Beauty|          3|          253|        259|   N|                Y|Beware of fake re...|The main reason I...| 2015-08-31|\n",
            "|         US|   14798919|R345Z1BTFABFY0|B001E8WBP4|     981173576|Alpha Hydrox Eye ...|          Beauty|          1|           19|         22|   N|                Y|            One Star|GOOD TIME SHIPPIN...| 2015-08-31|\n",
            "|         US|   39761005|R2Z6FGGU3VNCT2|B00CHHJXYI|      55559071|Simple Cleansing ...|          Beauty|          1|           41|         46|   N|                N|NOT FOR SENSITIVE...|I used these and ...| 2015-08-31|\n",
            "+-----------+-----------+--------------+----------+--------------+--------------------+----------------+-----------+-------------+-----------+----+-----------------+--------------------+--------------------+-----------+\n",
            "only showing top 20 rows\n",
            "\n"
          ]
        }
      ]
    },
    {
      "cell_type": "code",
      "source": [
        "helpful_votes_50plus_df.count()"
      ],
      "metadata": {
        "colab": {
          "base_uri": "https://localhost:8080/"
        },
        "id": "WCMDRAIMePnk",
        "outputId": "7fef92e8-566d-4572-ace1-d47b7d7b78c4"
      },
      "execution_count": 11,
      "outputs": [
        {
          "output_type": "execute_result",
          "data": {
            "text/plain": [
              "74760"
            ]
          },
          "metadata": {},
          "execution_count": 11
        }
      ]
    },
    {
      "cell_type": "code",
      "source": [
        "# Filter for data where a review was written as part of the Vine program\n",
        "vine_review_df = helpful_votes_50plus_df.filter(col(\"vine\") == 'Y')\n",
        "vine_review_df.show()"
      ],
      "metadata": {
        "colab": {
          "base_uri": "https://localhost:8080/"
        },
        "id": "I4o-X2yPeQyH",
        "outputId": "9be7eb00-aabb-4906-e8e7-cd1baada27e2"
      },
      "execution_count": 12,
      "outputs": [
        {
          "output_type": "stream",
          "name": "stdout",
          "text": [
            "+-----------+-----------+--------------+----------+--------------+--------------------+----------------+-----------+-------------+-----------+----+-----------------+--------------------+--------------------+-----------+\n",
            "|marketplace|customer_id|     review_id|product_id|product_parent|       product_title|product_category|star_rating|helpful_votes|total_votes|vine|verified_purchase|     review_headline|         review_body|review_date|\n",
            "+-----------+-----------+--------------+----------+--------------+--------------------+----------------+-----------+-------------+-----------+----+-----------------+--------------------+--------------------+-----------+\n",
            "|         US|   47770601|R106V6GUNWRSSS|B00YAR86BY|     136411552|Philips Sonicare ...|          Beauty|          5|          857|        889|   Y|                N|Improved build, g...|According to spec...| 2015-08-27|\n",
            "|         US|   52846213|R37N8KZS48W36A|B00YJJXJ06|     791197070|Maybelline New Yo...|          Beauty|          5|           36|         37|   Y|                N|See pictures comp...|I am a Lancôme pr...| 2015-08-26|\n",
            "|         US|   52833354|R1LNEQ2MQE03PD|B00YAR86BY|     136411552|Philips Sonicare ...|          Beauty|          5|           49|         66|   Y|                N|Super performance...|I've been using a...| 2015-08-24|\n",
            "|         US|   15209903|R1ECPWPUNK36ES|B00TTZEFUI|     398213708|Vidal Sassoon Hot...|          Beauty|          5|           29|         31|   Y|                N|Excellent Blower-...|Looking for a blo...| 2015-08-23|\n",
            "|         US|   24874450|R16BUM7UQZLOM6|B00QZ67KBK|       8891203|Philips Sonicare ...|          Beauty|          3|          107|        112|   Y|                N|Stick with the st...|Let me just start...| 2015-08-19|\n",
            "|         US|   42689422| R7NWIOCA5RVPR|B00MMRFUG8|     127431946|Remington D3190A ...|          Beauty|          5|           19|         26|   Y|                N|Love the \"cool sh...|Let me start with...| 2015-08-15|\n",
            "|         US|   51923814|R3NTGOCUZB33JK|B00YAR7ZL6|     776298388|Philips Sonicare ...|          Beauty|          5|           40|         47|   Y|                Y|Brushing Goes Bet...|If you are alread...| 2015-08-11|\n",
            "|         US|   52532594| RQX3RHGMG7UBN|B00MMRFUG8|     127431946|Remington D3190A ...|          Beauty|          5|          186|        200|   Y|                N|This hairdryer ha...|(UPDATE 10/13/16 ...| 2015-08-09|\n",
            "|         US|   15609090|R3E6QYKZDST042|B00TTZEFUI|     398213708|Vidal Sassoon Hot...|          Beauty|          4|           33|         39|   Y|                N|Curl Release Butt...|I had a hot air b...| 2015-08-03|\n",
            "|         US|   51800663|R2GR106PWUN85O|B00YXXQF22|     746299197|Curel Itch Defens...|          Beauty|          4|           36|         39|   Y|                N|Itchy, itchy, scr...|Everyone has a ta...| 2015-07-29|\n",
            "|         US|   49600435| R5AJK8HCOKXV5|B00HVNYIFW|     166207016|Pre de Provence S...|          Beauty|          4|           20|         23|   Y|                N|A Rose by Any Oth...|That's some copy ...| 2015-07-25|\n",
            "|         US|   52587452| RCHD0PMJO6Y52|B00Q23KDOM|     594835562|Jergens Natural G...|          Beauty|          3|           17|         20|   Y|                N|A crime against n...|First off, it's i...| 2015-07-25|\n",
            "|         US|   45260241|R1AF6ANE5JFP4D|B00YAR7ZL6|     776298388|Philips Sonicare ...|          Beauty|          5|           50|         55|   Y|                N|Succeeds brillian...|I use a sonicare ...| 2015-07-21|\n",
            "|         US|   16606481|R2FKVTMWD52KEY|B00UKP1M2K|     995218273|Maybelline New Yo...|          Beauty|          4|          265|        276|   Y|                N|Not bad, just ste...|This is not a hig...| 2015-07-10|\n",
            "|         US|   51744990| RZUT8OQAGWOYE|B00PFEFEAC|      77715070|L'Oreal Paris Sub...|          Beauty|          5|           46|         49|   Y|                N|Small Bottle Big Tan|I am quite impres...| 2015-07-02|\n",
            "|         US|   13610125| RW89H46BTJJWI|B00TI6TSLO|     158835237|Proactiv+ Emergen...|          Beauty|          2|           20|         20|   Y|                N|        Does Nothing|I gave this to my...| 2015-06-28|\n",
            "|         US|   51663540| RQ0N3J1IZKGMA|B00TI6TSLO|     158835237|Proactiv+ Emergen...|          Beauty|          1|           63|         63|   Y|                N| No improvement seen|I've used Proacti...| 2015-06-27|\n",
            "|         US|   30445854|R1Z88KA5VANTXS|B00WB84IRU|     763374312|Alba Botanica Haw...|          Beauty|          2|           42|         47|   Y|                N|It seems to perfo...|We received a can...| 2015-06-15|\n",
            "|         US|   36825966|R3M9NW8LPEKTWX|B00PFU5GXG|     694113541|TheraBreath PLUS ...|          Beauty|          5|           20|         21|   Y|                Y|HOORAY! I have a ...|UPDATE:  After st...| 2015-06-12|\n",
            "|         US|   48393616|R16QHBYJJ01R4P|B00PFEFEAC|      77715070|L'Oreal Paris Sub...|          Beauty|          5|           23|         24|   Y|                N|I won't use any o...|Here is what I re...| 2015-06-12|\n",
            "+-----------+-----------+--------------+----------+--------------+--------------------+----------------+-----------+-------------+-----------+----+-----------------+--------------------+--------------------+-----------+\n",
            "only showing top 20 rows\n",
            "\n"
          ]
        }
      ]
    },
    {
      "cell_type": "code",
      "source": [
        "vine_review_df.count()"
      ],
      "metadata": {
        "colab": {
          "base_uri": "https://localhost:8080/"
        },
        "id": "-RDTvoh1ecdM",
        "outputId": "93623468-93e4-40a4-8334-ca3129608b6a"
      },
      "execution_count": 13,
      "outputs": [
        {
          "output_type": "execute_result",
          "data": {
            "text/plain": [
              "647"
            ]
          },
          "metadata": {},
          "execution_count": 13
        }
      ]
    },
    {
      "cell_type": "code",
      "source": [
        "# Filter for data where a review was not part of the Vine program\n",
        "not_vine_df = helpful_votes_50plus_df.filter(col(\"vine\") == 'N')\n",
        "not_vine_df.show()"
      ],
      "metadata": {
        "colab": {
          "base_uri": "https://localhost:8080/"
        },
        "id": "ZvhyP5FNefdC",
        "outputId": "344ef311-396a-4d2d-8e5c-0553eb3abbd2"
      },
      "execution_count": 14,
      "outputs": [
        {
          "output_type": "stream",
          "name": "stdout",
          "text": [
            "+-----------+-----------+--------------+----------+--------------+--------------------+----------------+-----------+-------------+-----------+----+-----------------+--------------------+--------------------+-----------+\n",
            "|marketplace|customer_id|     review_id|product_id|product_parent|       product_title|product_category|star_rating|helpful_votes|total_votes|vine|verified_purchase|     review_headline|         review_body|review_date|\n",
            "+-----------+-----------+--------------+----------+--------------+--------------------+----------------+-----------+-------------+-----------+----+-----------------+--------------------+--------------------+-----------+\n",
            "|         US|   22393078|R2QRUE9REK8OUC|B00461F4PA|     608719013|Baby Foot Exfolia...|          Beauty|          5|           18|         23|   N|                Y|Better Than Any Pedi|First off, I'll s...| 2015-08-31|\n",
            "|         US|   46053231|R2POXRW6PXHXZG|B00OCJZ0GE|     717345177|Bed Head Little T...|          Beauty|          5|           25|         30|   N|                Y|       Great Crimper|This is a great c...| 2015-08-31|\n",
            "|         US|   27682058|R29Q748WSHZ3SN|B001V9LQ0W|      44090072|AVEENO ACTIVE NAT...|          Beauty|          5|           23|         24|   N|                Y|Best hair restore...|This is fabulous ...| 2015-08-31|\n",
            "|         US|     333848| R46UL5G5HEPRZ|B00SX6XABO|     899819396|SnoreShield™ Adju...|          Beauty|          5|           18|         20|   N|                N|SnoreShield is aw...|I bought this ant...| 2015-08-31|\n",
            "|         US|   12553981|R2UQHSNWU6WTZX|B00HAT8EKW|     136225014|Moroccan Oil Sham...|          Beauty|          5|           74|         76|   N|                N|Love what the sha...|I love what both ...| 2015-08-31|\n",
            "|         US|   15257586|R2HSRI3D6E2M9Y|B004WOSOA8|     160713618|Vasocaine Numbing...|          Beauty|          5|           69|         71|   N|                Y|Best tattoo Spray...|Best tattoo Spray...| 2015-08-31|\n",
            "|         US|   19276831|R17ARFSDV555EW|B005WWQXB6|     807009289|Wet Brush Origina...|          Beauty|          1|           29|         29|   N|                Y|Better Than That ...|**Update!! Counte...| 2015-08-31|\n",
            "|         US|   42235766|R3GL5156FFEDQA|B000VPPUEA|     834747871|Bio-Oil Multiuse ...|          Beauty|          5|           20|         21|   N|                Y|This product works!!|This works!  Afte...| 2015-08-31|\n",
            "|         US|   30423413|R29KQJC9PIYWQS|B00V8PP7WC|      10772213|50, Clear, Empty,...|          Beauty|          5|           25|         26|   N|                Y|             Perfect|Work exactly as e...| 2015-08-31|\n",
            "|         US|   47837987| RYWUJT2A33VJH|B004VJ56AK|     495619476|Clarisonic Opal S...|          Beauty|          5|           20|         22|   N|                N|Her surgery was a...|I have had my Opa...| 2015-08-31|\n",
            "|         US|     314244|R1KH5L45CWI30I|B00SX6XABO|     899819396|SnoreShield™ Adju...|          Beauty|          5|           19|         20|   N|                N|      Give it a try!|One of my friend ...| 2015-08-31|\n",
            "|         US|    1407203|R1RKEBF47UEIVH|B00COGVWV4|     845309451|8 Lots Mix Color ...|          Beauty|          5|           26|         30|   N|                N|          Five Stars|Love it! Little h...| 2015-08-31|\n",
            "|         US|    2659185|R2WIB8BHF77XIG|B005G4YCHW|     269969003|Nature Made Prena...|          Beauty|          4|           69|         78|   N|                N| I liked these pills|I liked these pil...| 2015-08-31|\n",
            "|         US|   25415510|R20T4C0DA38YBD|B00ZORY924|     247229663|Gellen Temperatur...|          Beauty|          5|           22|         23|   N|                Y|IN LOVE! I was wo...|IN LOVE! I was wo...| 2015-08-31|\n",
            "|         US|    1094446| REUKY9DLNJXYF|B0084PXVX6|     236774785|Raw Unrefined Ivo...|          Beauty|          4|           21|         22|   N|                Y|       great product|I really love thi...| 2015-08-31|\n",
            "|         US|   23645612|R2OH5QLD7MGJTG|B0027VCNGO|      24106546|Seche Vite Dry Fa...|          Beauty|          5|           48|         48|   N|                Y| BEST top coat EVER!|I take my nail re...| 2015-08-31|\n",
            "|         US|   10721966|R179M7NOS1365W|B00OGUB23E|     638245716|Alina Skin Care V...|          Beauty|          5|           88|         91|   N|                Y|          Five Stars|                Good| 2015-08-31|\n",
            "|         US|   50463744|R2NPNCGM6T1JBA|B0076Q7WH0|     966701049|PURA D'OR Argan O...|          Beauty|          3|          253|        259|   N|                Y|Beware of fake re...|The main reason I...| 2015-08-31|\n",
            "|         US|   14798919|R345Z1BTFABFY0|B001E8WBP4|     981173576|Alpha Hydrox Eye ...|          Beauty|          1|           19|         22|   N|                Y|            One Star|GOOD TIME SHIPPIN...| 2015-08-31|\n",
            "|         US|   39761005|R2Z6FGGU3VNCT2|B00CHHJXYI|      55559071|Simple Cleansing ...|          Beauty|          1|           41|         46|   N|                N|NOT FOR SENSITIVE...|I used these and ...| 2015-08-31|\n",
            "+-----------+-----------+--------------+----------+--------------+--------------------+----------------+-----------+-------------+-----------+----+-----------------+--------------------+--------------------+-----------+\n",
            "only showing top 20 rows\n",
            "\n"
          ]
        }
      ]
    },
    {
      "cell_type": "code",
      "source": [
        "not_vine_df.count()"
      ],
      "metadata": {
        "colab": {
          "base_uri": "https://localhost:8080/"
        },
        "id": "QzTHEDpneu1O",
        "outputId": "d090f4c2-6fe6-4cdb-f15f-03e8e0c60746"
      },
      "execution_count": 15,
      "outputs": [
        {
          "output_type": "execute_result",
          "data": {
            "text/plain": [
              "74113"
            ]
          },
          "metadata": {},
          "execution_count": 15
        }
      ]
    },
    {
      "cell_type": "code",
      "source": [
        "# Finding total # of 5-star paid vine reviews \n",
        "paid_star_rating_df = vine_review_df.filter(col(\"star_rating\") == 5)\n",
        "paid_star_rating_df.count()"
      ],
      "metadata": {
        "colab": {
          "base_uri": "https://localhost:8080/"
        },
        "id": "RLLwzkI_fFfl",
        "outputId": "af0d84c6-d631-4de4-ad62-e404bc579a19"
      },
      "execution_count": 16,
      "outputs": [
        {
          "output_type": "execute_result",
          "data": {
            "text/plain": [
              "229"
            ]
          },
          "metadata": {},
          "execution_count": 16
        }
      ]
    },
    {
      "cell_type": "code",
      "source": [
        "# Finding total # of 5-star unpaid reviews \n",
        "unpaid_star_rating_df = not_vine_df.filter(col(\"star_rating\") == 5)\n",
        "unpaid_star_rating_df.count()"
      ],
      "metadata": {
        "colab": {
          "base_uri": "https://localhost:8080/"
        },
        "id": "XygBIyuufY94",
        "outputId": "efb2dab6-d563-49db-9fe9-e4f0bc02848b"
      },
      "execution_count": 17,
      "outputs": [
        {
          "output_type": "execute_result",
          "data": {
            "text/plain": [
              "43217"
            ]
          },
          "metadata": {},
          "execution_count": 17
        }
      ]
    },
    {
      "cell_type": "code",
      "source": [
        "# Finding percentage of 5-star paid vine reviews\n",
        "percent_paid = (paid_star_rating_df.count()/vine_review_df.count())*100\n",
        "print(\"Percentage of 5-star reviews for paid Vine program was: %f\" % percent_paid + \"%\")"
      ],
      "metadata": {
        "colab": {
          "base_uri": "https://localhost:8080/"
        },
        "id": "bvKYJXUifwpk",
        "outputId": "41f387e1-ca6e-41cd-e5f6-4525d2765555"
      },
      "execution_count": 18,
      "outputs": [
        {
          "output_type": "stream",
          "name": "stdout",
          "text": [
            "Percentage of 5-star reviews for paid Vine program was: 35.394127%\n"
          ]
        }
      ]
    },
    {
      "cell_type": "code",
      "source": [
        "# Finding percentage of 5-star unpaid reviews\n",
        "percent_unpaid = (unpaid_star_rating_df.count()/not_vine_df.count())*100\n",
        "print(\"Percentage of 5-star unpaid reviews was: %f\" % percent_unpaid + \"%\")"
      ],
      "metadata": {
        "colab": {
          "base_uri": "https://localhost:8080/"
        },
        "id": "KBrjRQFdfrkv",
        "outputId": "78a78da6-f516-45d7-d8fb-1aa7eb986e9a"
      },
      "execution_count": 19,
      "outputs": [
        {
          "output_type": "stream",
          "name": "stdout",
          "text": [
            "Percentage of 5-star unpaid reviews was: 58.312307%\n"
          ]
        }
      ]
    },
    {
      "cell_type": "code",
      "source": [
        "# Finding total # of 1-star paid vine reviews \n",
        "paid_1star_rating_df = vine_review_df.filter(col(\"star_rating\") == 1)\n",
        "paid_1star_rating_df.count()"
      ],
      "metadata": {
        "colab": {
          "base_uri": "https://localhost:8080/"
        },
        "id": "loDFrx3Qo2gj",
        "outputId": "7d951893-0abe-4259-f459-a7dd27be1e49"
      },
      "execution_count": 20,
      "outputs": [
        {
          "output_type": "execute_result",
          "data": {
            "text/plain": [
              "37"
            ]
          },
          "metadata": {},
          "execution_count": 20
        }
      ]
    },
    {
      "cell_type": "code",
      "source": [
        "# Finding total # of 1-star unpaid reviews \n",
        "unpaid_1star_rating_df = not_vine_df.filter(col(\"star_rating\") == 1)\n",
        "unpaid_1star_rating_df.count()"
      ],
      "metadata": {
        "colab": {
          "base_uri": "https://localhost:8080/"
        },
        "id": "mNwcm8ZQo_zW",
        "outputId": "77e126c6-822f-44c1-c01d-fa570c8b0f1c"
      },
      "execution_count": 21,
      "outputs": [
        {
          "output_type": "execute_result",
          "data": {
            "text/plain": [
              "14506"
            ]
          },
          "metadata": {},
          "execution_count": 21
        }
      ]
    },
    {
      "cell_type": "code",
      "source": [
        "# Finding percentage of 1-star paid vine reviews\n",
        "percent_paid_1 = (paid_1star_rating_df.count()/vine_review_df.count())*100\n",
        "print(\"Percentage of 1-star reviews for paid Vine program was: %f\" % percent_paid_1 + \"%\")"
      ],
      "metadata": {
        "colab": {
          "base_uri": "https://localhost:8080/"
        },
        "id": "Hpy7SMw_pF_W",
        "outputId": "e58959ea-e23a-4d37-c200-077f27ac732b"
      },
      "execution_count": 24,
      "outputs": [
        {
          "output_type": "stream",
          "name": "stdout",
          "text": [
            "Percentage of 1-star reviews for paid Vine program was: 5.718702%\n"
          ]
        }
      ]
    },
    {
      "cell_type": "code",
      "source": [
        "# Finding percentage of 1-star unpaid reviews\n",
        "percent_unpaid_1 = (unpaid_1star_rating_df.count()/not_vine_df.count())*100\n",
        "print(\"Percentage of 1-star unpaid reviews was: %f\" % percent_unpaid_1 + \"%\")"
      ],
      "metadata": {
        "colab": {
          "base_uri": "https://localhost:8080/"
        },
        "id": "wGfRAlihpIps",
        "outputId": "d5715eda-c74b-4eb7-85ca-05a534936c65"
      },
      "execution_count": 26,
      "outputs": [
        {
          "output_type": "stream",
          "name": "stdout",
          "text": [
            "Percentage of 1-star unpaid reviews was: 19.572814%\n"
          ]
        }
      ]
    }
  ]
}